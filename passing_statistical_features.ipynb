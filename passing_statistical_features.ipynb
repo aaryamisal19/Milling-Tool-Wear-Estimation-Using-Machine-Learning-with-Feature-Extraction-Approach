{
  "nbformat": 4,
  "nbformat_minor": 0,
  "metadata": {
    "colab": {
      "provenance": []
    },
    "kernelspec": {
      "name": "python3",
      "display_name": "Python 3"
    },
    "language_info": {
      "name": "python"
    }
  },
  "cells": [
    {
      "cell_type": "code",
      "source": [
        "#importing necessary libraries\n",
        "import pandas as pd\n",
        "import numpy as np\n",
        "from sklearn.metrics import mean_squared_error, mean_absolute_percentage_error, r2_score"
      ],
      "metadata": {
        "id": "YAit2A6e6tYr"
      },
      "execution_count": null,
      "outputs": []
    },
    {
      "cell_type": "code",
      "source": [
        "#reading the csv in drive\n",
        "statistical_features=pd.read_csv('/content/drive/MyDrive/W1/statistical_features.csv')\n",
        "concatenated_df_statistical=pd.read_csv('/content/drive/MyDrive/W1/concatenated_df_statistical.csv')"
      ],
      "metadata": {
        "id": "JEtDjRMv6Ncy"
      },
      "execution_count": null,
      "outputs": []
    },
    {
      "cell_type": "code",
      "source": [
        "#selecting statistical features based on PCC\n",
        "num1,num2,num3 = list(),list(),list()\n",
        "from scipy.stats import pearsonr\n",
        "\n",
        "for i in concatenated_df_statistical.columns:\n",
        "    X=concatenated_df_statistical['{}'.format(i)].astype(float)\n",
        "    y=concatenated_df_statistical['Wear'].astype(float)\n",
        "\n",
        "    correlation,pvalue=pearsonr(X,y)\n",
        "\n",
        "    num3.append(pvalue)\n",
        "    num1.append(i)\n",
        "    num2.append(correlation)\n",
        "\n",
        "correlation_tables = pd.DataFrame({'Feature':num1,'Correlation':num2,'P-value':num3}).sort_values('Correlation',ascending=False)\n",
        "correlation_tables"
      ],
      "metadata": {
        "colab": {
          "base_uri": "https://localhost:8080/",
          "height": 478
        },
        "id": "qY0OGGOy593K",
        "outputId": "d8118093-1ab2-40eb-a1d7-01e325a91da0"
      },
      "execution_count": null,
      "outputs": [
        {
          "output_type": "stream",
          "name": "stderr",
          "text": [
            "/usr/local/lib/python3.10/dist-packages/scipy/stats/_stats_py.py:4424: ConstantInputWarning: An input array is constant; the correlation coefficient is not defined.\n",
            "  warnings.warn(stats.ConstantInputWarning(msg))\n"
          ]
        },
        {
          "output_type": "execute_result",
          "data": {
            "text/plain": [
              "                   Feature  Correlation        P-value\n",
              "288                   Wear     1.000000   0.000000e+00\n",
              "75     2_ECDF Percentile_1     0.582284  4.327058e-271\n",
              "99                  2_Mean     0.469905  3.565065e-164\n",
              "96   2_Interquartile range     0.458707  1.468274e-155\n",
              "105             2_Skewness     0.448232  8.711457e-148\n",
              "..                     ...          ...            ...\n",
              "261               7_ECDF_5          NaN            NaN\n",
              "262               7_ECDF_6          NaN            NaN\n",
              "263               7_ECDF_7          NaN            NaN\n",
              "264               7_ECDF_8          NaN            NaN\n",
              "265               7_ECDF_9          NaN            NaN\n",
              "\n",
              "[289 rows x 3 columns]"
            ],
            "text/html": [
              "\n",
              "  <div id=\"df-a4fe059a-d54b-4a5d-967e-89077f69a11f\">\n",
              "    <div class=\"colab-df-container\">\n",
              "      <div>\n",
              "<style scoped>\n",
              "    .dataframe tbody tr th:only-of-type {\n",
              "        vertical-align: middle;\n",
              "    }\n",
              "\n",
              "    .dataframe tbody tr th {\n",
              "        vertical-align: top;\n",
              "    }\n",
              "\n",
              "    .dataframe thead th {\n",
              "        text-align: right;\n",
              "    }\n",
              "</style>\n",
              "<table border=\"1\" class=\"dataframe\">\n",
              "  <thead>\n",
              "    <tr style=\"text-align: right;\">\n",
              "      <th></th>\n",
              "      <th>Feature</th>\n",
              "      <th>Correlation</th>\n",
              "      <th>P-value</th>\n",
              "    </tr>\n",
              "  </thead>\n",
              "  <tbody>\n",
              "    <tr>\n",
              "      <th>288</th>\n",
              "      <td>Wear</td>\n",
              "      <td>1.000000</td>\n",
              "      <td>0.000000e+00</td>\n",
              "    </tr>\n",
              "    <tr>\n",
              "      <th>75</th>\n",
              "      <td>2_ECDF Percentile_1</td>\n",
              "      <td>0.582284</td>\n",
              "      <td>4.327058e-271</td>\n",
              "    </tr>\n",
              "    <tr>\n",
              "      <th>99</th>\n",
              "      <td>2_Mean</td>\n",
              "      <td>0.469905</td>\n",
              "      <td>3.565065e-164</td>\n",
              "    </tr>\n",
              "    <tr>\n",
              "      <th>96</th>\n",
              "      <td>2_Interquartile range</td>\n",
              "      <td>0.458707</td>\n",
              "      <td>1.468274e-155</td>\n",
              "    </tr>\n",
              "    <tr>\n",
              "      <th>105</th>\n",
              "      <td>2_Skewness</td>\n",
              "      <td>0.448232</td>\n",
              "      <td>8.711457e-148</td>\n",
              "    </tr>\n",
              "    <tr>\n",
              "      <th>...</th>\n",
              "      <td>...</td>\n",
              "      <td>...</td>\n",
              "      <td>...</td>\n",
              "    </tr>\n",
              "    <tr>\n",
              "      <th>261</th>\n",
              "      <td>7_ECDF_5</td>\n",
              "      <td>NaN</td>\n",
              "      <td>NaN</td>\n",
              "    </tr>\n",
              "    <tr>\n",
              "      <th>262</th>\n",
              "      <td>7_ECDF_6</td>\n",
              "      <td>NaN</td>\n",
              "      <td>NaN</td>\n",
              "    </tr>\n",
              "    <tr>\n",
              "      <th>263</th>\n",
              "      <td>7_ECDF_7</td>\n",
              "      <td>NaN</td>\n",
              "      <td>NaN</td>\n",
              "    </tr>\n",
              "    <tr>\n",
              "      <th>264</th>\n",
              "      <td>7_ECDF_8</td>\n",
              "      <td>NaN</td>\n",
              "      <td>NaN</td>\n",
              "    </tr>\n",
              "    <tr>\n",
              "      <th>265</th>\n",
              "      <td>7_ECDF_9</td>\n",
              "      <td>NaN</td>\n",
              "      <td>NaN</td>\n",
              "    </tr>\n",
              "  </tbody>\n",
              "</table>\n",
              "<p>289 rows × 3 columns</p>\n",
              "</div>\n",
              "      <button class=\"colab-df-convert\" onclick=\"convertToInteractive('df-a4fe059a-d54b-4a5d-967e-89077f69a11f')\"\n",
              "              title=\"Convert this dataframe to an interactive table.\"\n",
              "              style=\"display:none;\">\n",
              "        \n",
              "  <svg xmlns=\"http://www.w3.org/2000/svg\" height=\"24px\"viewBox=\"0 0 24 24\"\n",
              "       width=\"24px\">\n",
              "    <path d=\"M0 0h24v24H0V0z\" fill=\"none\"/>\n",
              "    <path d=\"M18.56 5.44l.94 2.06.94-2.06 2.06-.94-2.06-.94-.94-2.06-.94 2.06-2.06.94zm-11 1L8.5 8.5l.94-2.06 2.06-.94-2.06-.94L8.5 2.5l-.94 2.06-2.06.94zm10 10l.94 2.06.94-2.06 2.06-.94-2.06-.94-.94-2.06-.94 2.06-2.06.94z\"/><path d=\"M17.41 7.96l-1.37-1.37c-.4-.4-.92-.59-1.43-.59-.52 0-1.04.2-1.43.59L10.3 9.45l-7.72 7.72c-.78.78-.78 2.05 0 2.83L4 21.41c.39.39.9.59 1.41.59.51 0 1.02-.2 1.41-.59l7.78-7.78 2.81-2.81c.8-.78.8-2.07 0-2.86zM5.41 20L4 18.59l7.72-7.72 1.47 1.35L5.41 20z\"/>\n",
              "  </svg>\n",
              "      </button>\n",
              "      \n",
              "  <style>\n",
              "    .colab-df-container {\n",
              "      display:flex;\n",
              "      flex-wrap:wrap;\n",
              "      gap: 12px;\n",
              "    }\n",
              "\n",
              "    .colab-df-convert {\n",
              "      background-color: #E8F0FE;\n",
              "      border: none;\n",
              "      border-radius: 50%;\n",
              "      cursor: pointer;\n",
              "      display: none;\n",
              "      fill: #1967D2;\n",
              "      height: 32px;\n",
              "      padding: 0 0 0 0;\n",
              "      width: 32px;\n",
              "    }\n",
              "\n",
              "    .colab-df-convert:hover {\n",
              "      background-color: #E2EBFA;\n",
              "      box-shadow: 0px 1px 2px rgba(60, 64, 67, 0.3), 0px 1px 3px 1px rgba(60, 64, 67, 0.15);\n",
              "      fill: #174EA6;\n",
              "    }\n",
              "\n",
              "    [theme=dark] .colab-df-convert {\n",
              "      background-color: #3B4455;\n",
              "      fill: #D2E3FC;\n",
              "    }\n",
              "\n",
              "    [theme=dark] .colab-df-convert:hover {\n",
              "      background-color: #434B5C;\n",
              "      box-shadow: 0px 1px 3px 1px rgba(0, 0, 0, 0.15);\n",
              "      filter: drop-shadow(0px 1px 2px rgba(0, 0, 0, 0.3));\n",
              "      fill: #FFFFFF;\n",
              "    }\n",
              "  </style>\n",
              "\n",
              "      <script>\n",
              "        const buttonEl =\n",
              "          document.querySelector('#df-a4fe059a-d54b-4a5d-967e-89077f69a11f button.colab-df-convert');\n",
              "        buttonEl.style.display =\n",
              "          google.colab.kernel.accessAllowed ? 'block' : 'none';\n",
              "\n",
              "        async function convertToInteractive(key) {\n",
              "          const element = document.querySelector('#df-a4fe059a-d54b-4a5d-967e-89077f69a11f');\n",
              "          const dataTable =\n",
              "            await google.colab.kernel.invokeFunction('convertToInteractive',\n",
              "                                                     [key], {});\n",
              "          if (!dataTable) return;\n",
              "\n",
              "          const docLinkHtml = 'Like what you see? Visit the ' +\n",
              "            '<a target=\"_blank\" href=https://colab.research.google.com/notebooks/data_table.ipynb>data table notebook</a>'\n",
              "            + ' to learn more about interactive tables.';\n",
              "          element.innerHTML = '';\n",
              "          dataTable['output_type'] = 'display_data';\n",
              "          await google.colab.output.renderOutput(dataTable, element);\n",
              "          const docLink = document.createElement('div');\n",
              "          docLink.innerHTML = docLinkHtml;\n",
              "          element.appendChild(docLink);\n",
              "        }\n",
              "      </script>\n",
              "    </div>\n",
              "  </div>\n",
              "  "
            ]
          },
          "metadata": {},
          "execution_count": 103
        }
      ]
    },
    {
      "cell_type": "code",
      "source": [
        "#selecting the statistical features having correlation more than 0.3\n",
        "to_model=correlation_tables.iloc[1:17,0:2]\n",
        "to_model"
      ],
      "metadata": {
        "colab": {
          "base_uri": "https://localhost:8080/",
          "height": 551
        },
        "id": "PiAQBx7qDBIp",
        "outputId": "f21c9eaf-40d0-4629-c358-40089a177841"
      },
      "execution_count": null,
      "outputs": [
        {
          "output_type": "execute_result",
          "data": {
            "text/plain": [
              "                         Feature  Correlation\n",
              "75           2_ECDF Percentile_1     0.582284\n",
              "99                        2_Mean     0.469905\n",
              "96         2_Interquartile range     0.458707\n",
              "105                   2_Skewness     0.448232\n",
              "102  2_Median absolute deviation     0.416786\n",
              "98                         2_Max     0.411487\n",
              "134                        3_Max     0.386841\n",
              "100    2_Mean absolute deviation     0.385729\n",
              "106         2_Standard deviation     0.379476\n",
              "107                   2_Variance     0.372367\n",
              "141                   3_Skewness     0.361918\n",
              "142         3_Standard deviation     0.348275\n",
              "143                   3_Variance     0.339598\n",
              "104           2_Root mean square     0.336098\n",
              "140           3_Root mean square     0.326958\n",
              "136    3_Mean absolute deviation     0.301228"
            ],
            "text/html": [
              "\n",
              "  <div id=\"df-0d73426e-d8e3-4e53-9783-379539b38bef\">\n",
              "    <div class=\"colab-df-container\">\n",
              "      <div>\n",
              "<style scoped>\n",
              "    .dataframe tbody tr th:only-of-type {\n",
              "        vertical-align: middle;\n",
              "    }\n",
              "\n",
              "    .dataframe tbody tr th {\n",
              "        vertical-align: top;\n",
              "    }\n",
              "\n",
              "    .dataframe thead th {\n",
              "        text-align: right;\n",
              "    }\n",
              "</style>\n",
              "<table border=\"1\" class=\"dataframe\">\n",
              "  <thead>\n",
              "    <tr style=\"text-align: right;\">\n",
              "      <th></th>\n",
              "      <th>Feature</th>\n",
              "      <th>Correlation</th>\n",
              "    </tr>\n",
              "  </thead>\n",
              "  <tbody>\n",
              "    <tr>\n",
              "      <th>75</th>\n",
              "      <td>2_ECDF Percentile_1</td>\n",
              "      <td>0.582284</td>\n",
              "    </tr>\n",
              "    <tr>\n",
              "      <th>99</th>\n",
              "      <td>2_Mean</td>\n",
              "      <td>0.469905</td>\n",
              "    </tr>\n",
              "    <tr>\n",
              "      <th>96</th>\n",
              "      <td>2_Interquartile range</td>\n",
              "      <td>0.458707</td>\n",
              "    </tr>\n",
              "    <tr>\n",
              "      <th>105</th>\n",
              "      <td>2_Skewness</td>\n",
              "      <td>0.448232</td>\n",
              "    </tr>\n",
              "    <tr>\n",
              "      <th>102</th>\n",
              "      <td>2_Median absolute deviation</td>\n",
              "      <td>0.416786</td>\n",
              "    </tr>\n",
              "    <tr>\n",
              "      <th>98</th>\n",
              "      <td>2_Max</td>\n",
              "      <td>0.411487</td>\n",
              "    </tr>\n",
              "    <tr>\n",
              "      <th>134</th>\n",
              "      <td>3_Max</td>\n",
              "      <td>0.386841</td>\n",
              "    </tr>\n",
              "    <tr>\n",
              "      <th>100</th>\n",
              "      <td>2_Mean absolute deviation</td>\n",
              "      <td>0.385729</td>\n",
              "    </tr>\n",
              "    <tr>\n",
              "      <th>106</th>\n",
              "      <td>2_Standard deviation</td>\n",
              "      <td>0.379476</td>\n",
              "    </tr>\n",
              "    <tr>\n",
              "      <th>107</th>\n",
              "      <td>2_Variance</td>\n",
              "      <td>0.372367</td>\n",
              "    </tr>\n",
              "    <tr>\n",
              "      <th>141</th>\n",
              "      <td>3_Skewness</td>\n",
              "      <td>0.361918</td>\n",
              "    </tr>\n",
              "    <tr>\n",
              "      <th>142</th>\n",
              "      <td>3_Standard deviation</td>\n",
              "      <td>0.348275</td>\n",
              "    </tr>\n",
              "    <tr>\n",
              "      <th>143</th>\n",
              "      <td>3_Variance</td>\n",
              "      <td>0.339598</td>\n",
              "    </tr>\n",
              "    <tr>\n",
              "      <th>104</th>\n",
              "      <td>2_Root mean square</td>\n",
              "      <td>0.336098</td>\n",
              "    </tr>\n",
              "    <tr>\n",
              "      <th>140</th>\n",
              "      <td>3_Root mean square</td>\n",
              "      <td>0.326958</td>\n",
              "    </tr>\n",
              "    <tr>\n",
              "      <th>136</th>\n",
              "      <td>3_Mean absolute deviation</td>\n",
              "      <td>0.301228</td>\n",
              "    </tr>\n",
              "  </tbody>\n",
              "</table>\n",
              "</div>\n",
              "      <button class=\"colab-df-convert\" onclick=\"convertToInteractive('df-0d73426e-d8e3-4e53-9783-379539b38bef')\"\n",
              "              title=\"Convert this dataframe to an interactive table.\"\n",
              "              style=\"display:none;\">\n",
              "        \n",
              "  <svg xmlns=\"http://www.w3.org/2000/svg\" height=\"24px\"viewBox=\"0 0 24 24\"\n",
              "       width=\"24px\">\n",
              "    <path d=\"M0 0h24v24H0V0z\" fill=\"none\"/>\n",
              "    <path d=\"M18.56 5.44l.94 2.06.94-2.06 2.06-.94-2.06-.94-.94-2.06-.94 2.06-2.06.94zm-11 1L8.5 8.5l.94-2.06 2.06-.94-2.06-.94L8.5 2.5l-.94 2.06-2.06.94zm10 10l.94 2.06.94-2.06 2.06-.94-2.06-.94-.94-2.06-.94 2.06-2.06.94z\"/><path d=\"M17.41 7.96l-1.37-1.37c-.4-.4-.92-.59-1.43-.59-.52 0-1.04.2-1.43.59L10.3 9.45l-7.72 7.72c-.78.78-.78 2.05 0 2.83L4 21.41c.39.39.9.59 1.41.59.51 0 1.02-.2 1.41-.59l7.78-7.78 2.81-2.81c.8-.78.8-2.07 0-2.86zM5.41 20L4 18.59l7.72-7.72 1.47 1.35L5.41 20z\"/>\n",
              "  </svg>\n",
              "      </button>\n",
              "      \n",
              "  <style>\n",
              "    .colab-df-container {\n",
              "      display:flex;\n",
              "      flex-wrap:wrap;\n",
              "      gap: 12px;\n",
              "    }\n",
              "\n",
              "    .colab-df-convert {\n",
              "      background-color: #E8F0FE;\n",
              "      border: none;\n",
              "      border-radius: 50%;\n",
              "      cursor: pointer;\n",
              "      display: none;\n",
              "      fill: #1967D2;\n",
              "      height: 32px;\n",
              "      padding: 0 0 0 0;\n",
              "      width: 32px;\n",
              "    }\n",
              "\n",
              "    .colab-df-convert:hover {\n",
              "      background-color: #E2EBFA;\n",
              "      box-shadow: 0px 1px 2px rgba(60, 64, 67, 0.3), 0px 1px 3px 1px rgba(60, 64, 67, 0.15);\n",
              "      fill: #174EA6;\n",
              "    }\n",
              "\n",
              "    [theme=dark] .colab-df-convert {\n",
              "      background-color: #3B4455;\n",
              "      fill: #D2E3FC;\n",
              "    }\n",
              "\n",
              "    [theme=dark] .colab-df-convert:hover {\n",
              "      background-color: #434B5C;\n",
              "      box-shadow: 0px 1px 3px 1px rgba(0, 0, 0, 0.15);\n",
              "      filter: drop-shadow(0px 1px 2px rgba(0, 0, 0, 0.3));\n",
              "      fill: #FFFFFF;\n",
              "    }\n",
              "  </style>\n",
              "\n",
              "      <script>\n",
              "        const buttonEl =\n",
              "          document.querySelector('#df-0d73426e-d8e3-4e53-9783-379539b38bef button.colab-df-convert');\n",
              "        buttonEl.style.display =\n",
              "          google.colab.kernel.accessAllowed ? 'block' : 'none';\n",
              "\n",
              "        async function convertToInteractive(key) {\n",
              "          const element = document.querySelector('#df-0d73426e-d8e3-4e53-9783-379539b38bef');\n",
              "          const dataTable =\n",
              "            await google.colab.kernel.invokeFunction('convertToInteractive',\n",
              "                                                     [key], {});\n",
              "          if (!dataTable) return;\n",
              "\n",
              "          const docLinkHtml = 'Like what you see? Visit the ' +\n",
              "            '<a target=\"_blank\" href=https://colab.research.google.com/notebooks/data_table.ipynb>data table notebook</a>'\n",
              "            + ' to learn more about interactive tables.';\n",
              "          element.innerHTML = '';\n",
              "          dataTable['output_type'] = 'display_data';\n",
              "          await google.colab.output.renderOutput(dataTable, element);\n",
              "          const docLink = document.createElement('div');\n",
              "          docLink.innerHTML = docLinkHtml;\n",
              "          element.appendChild(docLink);\n",
              "        }\n",
              "      </script>\n",
              "    </div>\n",
              "  </div>\n",
              "  "
            ]
          },
          "metadata": {},
          "execution_count": 104
        }
      ]
    },
    {
      "cell_type": "code",
      "source": [
        "#getting the values for selected statistical features with highest correlation\n",
        "to_model = statistical_features[['2_ECDF Percentile_1', '2_Mean', '2_Interquartile range', '2_Skewness',\t'2_Median absolute deviation', '2_Max',\t'3_Max', '2_Mean absolute deviation',\t'2_Standard deviation',\t'2_Variance',\t'3_Skewness',\t'3_Standard deviation',\t'3_Variance',\t'2_Root mean square',\t'3_Root mean square',\t'3_Mean absolute deviation']].copy()\n",
        "to_model"
      ],
      "metadata": {
        "colab": {
          "base_uri": "https://localhost:8080/",
          "height": 522
        },
        "id": "UkHqDQJ4DKBT",
        "outputId": "2d893b21-b93c-440c-aa7c-f4204863ac16"
      },
      "execution_count": null,
      "outputs": [
        {
          "output_type": "execute_result",
          "data": {
            "text/plain": [
              "      2_ECDF Percentile_1     2_Mean  2_Interquartile range  2_Skewness  \\\n",
              "0                 10.1440 -18.071525              45.111550    0.199609   \n",
              "1                 12.1850  -9.443977              39.614300   -0.247952   \n",
              "2                  9.9178  -5.297024              19.495400   -0.930950   \n",
              "3                 13.9980 -13.565235              47.067125   -0.083347   \n",
              "4                  6.5174  -4.534600              14.962000   -0.599002   \n",
              "...                   ...        ...                    ...         ...   \n",
              "2986              24.4830   2.590318              37.007000   -0.262634   \n",
              "2987              28.7900   6.412364              40.465000   -0.329490   \n",
              "2988              29.3570   9.210096              31.991900   -0.442238   \n",
              "2989              28.5630   7.852248              37.460750   -0.470561   \n",
              "2990              22.4430   0.198359              36.100750    0.062156   \n",
              "\n",
              "      2_Median absolute deviation   2_Max   3_Max  2_Mean absolute deviation  \\\n",
              "0                        22.61270  39.501  83.865                  20.681488   \n",
              "1                        16.49200  44.148  73.817                  21.114513   \n",
              "2                        10.65444  19.212  35.681                  13.751592   \n",
              "3                        25.16300  50.949  72.447                  22.223770   \n",
              "4                         7.93425  46.982  79.412                  12.914082   \n",
              "...                           ...     ...     ...                        ...   \n",
              "2986                     18.41860  36.384  55.035                  18.519664   \n",
              "2987                     17.56850  54.406  68.851                  20.295164   \n",
              "2988                     15.13250  57.580  70.107                  20.015680   \n",
              "2989                     15.92500  38.084  54.692                  18.611674   \n",
              "2990                     16.94530  37.631  55.263                  17.616585   \n",
              "\n",
              "      2_Standard deviation  2_Variance  3_Skewness  3_Standard deviation  \\\n",
              "0                24.294400  590.217873   -0.234953             26.634942   \n",
              "1                25.295976  639.886424   -0.151566             23.367998   \n",
              "2                17.457163  304.752538   -0.042961             16.765999   \n",
              "3                26.524925  703.571669   -0.320175             26.614596   \n",
              "4                17.669070  312.196047    0.599132             17.668672   \n",
              "...                    ...         ...         ...                   ...   \n",
              "2986             21.288053  453.181215    0.202014             23.949387   \n",
              "2987             23.407178  547.895975    0.469738             25.515898   \n",
              "2988             24.470667  598.813568    0.941689             19.461466   \n",
              "2989             21.287839  453.172071    0.325467             20.972746   \n",
              "2990             20.462511  418.714367    0.378831             22.890742   \n",
              "\n",
              "      3_Variance  2_Root mean square  3_Root mean square  \\\n",
              "0     709.420119           30.278671           28.435178   \n",
              "1     546.063351           27.001391           25.857031   \n",
              "2     281.098720           18.243108           18.471735   \n",
              "3     708.336744           29.792403           29.504973   \n",
              "4     312.181957           18.241673           19.680935   \n",
              "...          ...                 ...                 ...   \n",
              "2986  573.573139           21.445068           25.135868   \n",
              "2987  651.061040           24.269619           26.018138   \n",
              "2988  378.748666           26.146500           20.059180   \n",
              "2989  439.856093           22.689863           21.557339   \n",
              "2990  523.986089           20.463473           23.609988   \n",
              "\n",
              "      3_Mean absolute deviation  \n",
              "0                     23.380667  \n",
              "1                     19.456683  \n",
              "2                     14.796504  \n",
              "3                     22.757095  \n",
              "4                     14.685273  \n",
              "...                         ...  \n",
              "2986                  19.472376  \n",
              "2987                  21.474425  \n",
              "2988                  15.473353  \n",
              "2989                  17.944147  \n",
              "2990                  19.488276  \n",
              "\n",
              "[2991 rows x 16 columns]"
            ],
            "text/html": [
              "\n",
              "  <div id=\"df-b7379cd4-ba01-4887-8e96-60fe4772b243\">\n",
              "    <div class=\"colab-df-container\">\n",
              "      <div>\n",
              "<style scoped>\n",
              "    .dataframe tbody tr th:only-of-type {\n",
              "        vertical-align: middle;\n",
              "    }\n",
              "\n",
              "    .dataframe tbody tr th {\n",
              "        vertical-align: top;\n",
              "    }\n",
              "\n",
              "    .dataframe thead th {\n",
              "        text-align: right;\n",
              "    }\n",
              "</style>\n",
              "<table border=\"1\" class=\"dataframe\">\n",
              "  <thead>\n",
              "    <tr style=\"text-align: right;\">\n",
              "      <th></th>\n",
              "      <th>2_ECDF Percentile_1</th>\n",
              "      <th>2_Mean</th>\n",
              "      <th>2_Interquartile range</th>\n",
              "      <th>2_Skewness</th>\n",
              "      <th>2_Median absolute deviation</th>\n",
              "      <th>2_Max</th>\n",
              "      <th>3_Max</th>\n",
              "      <th>2_Mean absolute deviation</th>\n",
              "      <th>2_Standard deviation</th>\n",
              "      <th>2_Variance</th>\n",
              "      <th>3_Skewness</th>\n",
              "      <th>3_Standard deviation</th>\n",
              "      <th>3_Variance</th>\n",
              "      <th>2_Root mean square</th>\n",
              "      <th>3_Root mean square</th>\n",
              "      <th>3_Mean absolute deviation</th>\n",
              "    </tr>\n",
              "  </thead>\n",
              "  <tbody>\n",
              "    <tr>\n",
              "      <th>0</th>\n",
              "      <td>10.1440</td>\n",
              "      <td>-18.071525</td>\n",
              "      <td>45.111550</td>\n",
              "      <td>0.199609</td>\n",
              "      <td>22.61270</td>\n",
              "      <td>39.501</td>\n",
              "      <td>83.865</td>\n",
              "      <td>20.681488</td>\n",
              "      <td>24.294400</td>\n",
              "      <td>590.217873</td>\n",
              "      <td>-0.234953</td>\n",
              "      <td>26.634942</td>\n",
              "      <td>709.420119</td>\n",
              "      <td>30.278671</td>\n",
              "      <td>28.435178</td>\n",
              "      <td>23.380667</td>\n",
              "    </tr>\n",
              "    <tr>\n",
              "      <th>1</th>\n",
              "      <td>12.1850</td>\n",
              "      <td>-9.443977</td>\n",
              "      <td>39.614300</td>\n",
              "      <td>-0.247952</td>\n",
              "      <td>16.49200</td>\n",
              "      <td>44.148</td>\n",
              "      <td>73.817</td>\n",
              "      <td>21.114513</td>\n",
              "      <td>25.295976</td>\n",
              "      <td>639.886424</td>\n",
              "      <td>-0.151566</td>\n",
              "      <td>23.367998</td>\n",
              "      <td>546.063351</td>\n",
              "      <td>27.001391</td>\n",
              "      <td>25.857031</td>\n",
              "      <td>19.456683</td>\n",
              "    </tr>\n",
              "    <tr>\n",
              "      <th>2</th>\n",
              "      <td>9.9178</td>\n",
              "      <td>-5.297024</td>\n",
              "      <td>19.495400</td>\n",
              "      <td>-0.930950</td>\n",
              "      <td>10.65444</td>\n",
              "      <td>19.212</td>\n",
              "      <td>35.681</td>\n",
              "      <td>13.751592</td>\n",
              "      <td>17.457163</td>\n",
              "      <td>304.752538</td>\n",
              "      <td>-0.042961</td>\n",
              "      <td>16.765999</td>\n",
              "      <td>281.098720</td>\n",
              "      <td>18.243108</td>\n",
              "      <td>18.471735</td>\n",
              "      <td>14.796504</td>\n",
              "    </tr>\n",
              "    <tr>\n",
              "      <th>3</th>\n",
              "      <td>13.9980</td>\n",
              "      <td>-13.565235</td>\n",
              "      <td>47.067125</td>\n",
              "      <td>-0.083347</td>\n",
              "      <td>25.16300</td>\n",
              "      <td>50.949</td>\n",
              "      <td>72.447</td>\n",
              "      <td>22.223770</td>\n",
              "      <td>26.524925</td>\n",
              "      <td>703.571669</td>\n",
              "      <td>-0.320175</td>\n",
              "      <td>26.614596</td>\n",
              "      <td>708.336744</td>\n",
              "      <td>29.792403</td>\n",
              "      <td>29.504973</td>\n",
              "      <td>22.757095</td>\n",
              "    </tr>\n",
              "    <tr>\n",
              "      <th>4</th>\n",
              "      <td>6.5174</td>\n",
              "      <td>-4.534600</td>\n",
              "      <td>14.962000</td>\n",
              "      <td>-0.599002</td>\n",
              "      <td>7.93425</td>\n",
              "      <td>46.982</td>\n",
              "      <td>79.412</td>\n",
              "      <td>12.914082</td>\n",
              "      <td>17.669070</td>\n",
              "      <td>312.196047</td>\n",
              "      <td>0.599132</td>\n",
              "      <td>17.668672</td>\n",
              "      <td>312.181957</td>\n",
              "      <td>18.241673</td>\n",
              "      <td>19.680935</td>\n",
              "      <td>14.685273</td>\n",
              "    </tr>\n",
              "    <tr>\n",
              "      <th>...</th>\n",
              "      <td>...</td>\n",
              "      <td>...</td>\n",
              "      <td>...</td>\n",
              "      <td>...</td>\n",
              "      <td>...</td>\n",
              "      <td>...</td>\n",
              "      <td>...</td>\n",
              "      <td>...</td>\n",
              "      <td>...</td>\n",
              "      <td>...</td>\n",
              "      <td>...</td>\n",
              "      <td>...</td>\n",
              "      <td>...</td>\n",
              "      <td>...</td>\n",
              "      <td>...</td>\n",
              "      <td>...</td>\n",
              "    </tr>\n",
              "    <tr>\n",
              "      <th>2986</th>\n",
              "      <td>24.4830</td>\n",
              "      <td>2.590318</td>\n",
              "      <td>37.007000</td>\n",
              "      <td>-0.262634</td>\n",
              "      <td>18.41860</td>\n",
              "      <td>36.384</td>\n",
              "      <td>55.035</td>\n",
              "      <td>18.519664</td>\n",
              "      <td>21.288053</td>\n",
              "      <td>453.181215</td>\n",
              "      <td>0.202014</td>\n",
              "      <td>23.949387</td>\n",
              "      <td>573.573139</td>\n",
              "      <td>21.445068</td>\n",
              "      <td>25.135868</td>\n",
              "      <td>19.472376</td>\n",
              "    </tr>\n",
              "    <tr>\n",
              "      <th>2987</th>\n",
              "      <td>28.7900</td>\n",
              "      <td>6.412364</td>\n",
              "      <td>40.465000</td>\n",
              "      <td>-0.329490</td>\n",
              "      <td>17.56850</td>\n",
              "      <td>54.406</td>\n",
              "      <td>68.851</td>\n",
              "      <td>20.295164</td>\n",
              "      <td>23.407178</td>\n",
              "      <td>547.895975</td>\n",
              "      <td>0.469738</td>\n",
              "      <td>25.515898</td>\n",
              "      <td>651.061040</td>\n",
              "      <td>24.269619</td>\n",
              "      <td>26.018138</td>\n",
              "      <td>21.474425</td>\n",
              "    </tr>\n",
              "    <tr>\n",
              "      <th>2988</th>\n",
              "      <td>29.3570</td>\n",
              "      <td>9.210096</td>\n",
              "      <td>31.991900</td>\n",
              "      <td>-0.442238</td>\n",
              "      <td>15.13250</td>\n",
              "      <td>57.580</td>\n",
              "      <td>70.107</td>\n",
              "      <td>20.015680</td>\n",
              "      <td>24.470667</td>\n",
              "      <td>598.813568</td>\n",
              "      <td>0.941689</td>\n",
              "      <td>19.461466</td>\n",
              "      <td>378.748666</td>\n",
              "      <td>26.146500</td>\n",
              "      <td>20.059180</td>\n",
              "      <td>15.473353</td>\n",
              "    </tr>\n",
              "    <tr>\n",
              "      <th>2989</th>\n",
              "      <td>28.5630</td>\n",
              "      <td>7.852248</td>\n",
              "      <td>37.460750</td>\n",
              "      <td>-0.470561</td>\n",
              "      <td>15.92500</td>\n",
              "      <td>38.084</td>\n",
              "      <td>54.692</td>\n",
              "      <td>18.611674</td>\n",
              "      <td>21.287839</td>\n",
              "      <td>453.172071</td>\n",
              "      <td>0.325467</td>\n",
              "      <td>20.972746</td>\n",
              "      <td>439.856093</td>\n",
              "      <td>22.689863</td>\n",
              "      <td>21.557339</td>\n",
              "      <td>17.944147</td>\n",
              "    </tr>\n",
              "    <tr>\n",
              "      <th>2990</th>\n",
              "      <td>22.4430</td>\n",
              "      <td>0.198359</td>\n",
              "      <td>36.100750</td>\n",
              "      <td>0.062156</td>\n",
              "      <td>16.94530</td>\n",
              "      <td>37.631</td>\n",
              "      <td>55.263</td>\n",
              "      <td>17.616585</td>\n",
              "      <td>20.462511</td>\n",
              "      <td>418.714367</td>\n",
              "      <td>0.378831</td>\n",
              "      <td>22.890742</td>\n",
              "      <td>523.986089</td>\n",
              "      <td>20.463473</td>\n",
              "      <td>23.609988</td>\n",
              "      <td>19.488276</td>\n",
              "    </tr>\n",
              "  </tbody>\n",
              "</table>\n",
              "<p>2991 rows × 16 columns</p>\n",
              "</div>\n",
              "      <button class=\"colab-df-convert\" onclick=\"convertToInteractive('df-b7379cd4-ba01-4887-8e96-60fe4772b243')\"\n",
              "              title=\"Convert this dataframe to an interactive table.\"\n",
              "              style=\"display:none;\">\n",
              "        \n",
              "  <svg xmlns=\"http://www.w3.org/2000/svg\" height=\"24px\"viewBox=\"0 0 24 24\"\n",
              "       width=\"24px\">\n",
              "    <path d=\"M0 0h24v24H0V0z\" fill=\"none\"/>\n",
              "    <path d=\"M18.56 5.44l.94 2.06.94-2.06 2.06-.94-2.06-.94-.94-2.06-.94 2.06-2.06.94zm-11 1L8.5 8.5l.94-2.06 2.06-.94-2.06-.94L8.5 2.5l-.94 2.06-2.06.94zm10 10l.94 2.06.94-2.06 2.06-.94-2.06-.94-.94-2.06-.94 2.06-2.06.94z\"/><path d=\"M17.41 7.96l-1.37-1.37c-.4-.4-.92-.59-1.43-.59-.52 0-1.04.2-1.43.59L10.3 9.45l-7.72 7.72c-.78.78-.78 2.05 0 2.83L4 21.41c.39.39.9.59 1.41.59.51 0 1.02-.2 1.41-.59l7.78-7.78 2.81-2.81c.8-.78.8-2.07 0-2.86zM5.41 20L4 18.59l7.72-7.72 1.47 1.35L5.41 20z\"/>\n",
              "  </svg>\n",
              "      </button>\n",
              "      \n",
              "  <style>\n",
              "    .colab-df-container {\n",
              "      display:flex;\n",
              "      flex-wrap:wrap;\n",
              "      gap: 12px;\n",
              "    }\n",
              "\n",
              "    .colab-df-convert {\n",
              "      background-color: #E8F0FE;\n",
              "      border: none;\n",
              "      border-radius: 50%;\n",
              "      cursor: pointer;\n",
              "      display: none;\n",
              "      fill: #1967D2;\n",
              "      height: 32px;\n",
              "      padding: 0 0 0 0;\n",
              "      width: 32px;\n",
              "    }\n",
              "\n",
              "    .colab-df-convert:hover {\n",
              "      background-color: #E2EBFA;\n",
              "      box-shadow: 0px 1px 2px rgba(60, 64, 67, 0.3), 0px 1px 3px 1px rgba(60, 64, 67, 0.15);\n",
              "      fill: #174EA6;\n",
              "    }\n",
              "\n",
              "    [theme=dark] .colab-df-convert {\n",
              "      background-color: #3B4455;\n",
              "      fill: #D2E3FC;\n",
              "    }\n",
              "\n",
              "    [theme=dark] .colab-df-convert:hover {\n",
              "      background-color: #434B5C;\n",
              "      box-shadow: 0px 1px 3px 1px rgba(0, 0, 0, 0.15);\n",
              "      filter: drop-shadow(0px 1px 2px rgba(0, 0, 0, 0.3));\n",
              "      fill: #FFFFFF;\n",
              "    }\n",
              "  </style>\n",
              "\n",
              "      <script>\n",
              "        const buttonEl =\n",
              "          document.querySelector('#df-b7379cd4-ba01-4887-8e96-60fe4772b243 button.colab-df-convert');\n",
              "        buttonEl.style.display =\n",
              "          google.colab.kernel.accessAllowed ? 'block' : 'none';\n",
              "\n",
              "        async function convertToInteractive(key) {\n",
              "          const element = document.querySelector('#df-b7379cd4-ba01-4887-8e96-60fe4772b243');\n",
              "          const dataTable =\n",
              "            await google.colab.kernel.invokeFunction('convertToInteractive',\n",
              "                                                     [key], {});\n",
              "          if (!dataTable) return;\n",
              "\n",
              "          const docLinkHtml = 'Like what you see? Visit the ' +\n",
              "            '<a target=\"_blank\" href=https://colab.research.google.com/notebooks/data_table.ipynb>data table notebook</a>'\n",
              "            + ' to learn more about interactive tables.';\n",
              "          element.innerHTML = '';\n",
              "          dataTable['output_type'] = 'display_data';\n",
              "          await google.colab.output.renderOutput(dataTable, element);\n",
              "          const docLink = document.createElement('div');\n",
              "          docLink.innerHTML = docLinkHtml;\n",
              "          element.appendChild(docLink);\n",
              "        }\n",
              "      </script>\n",
              "    </div>\n",
              "  </div>\n",
              "  "
            ]
          },
          "metadata": {},
          "execution_count": 105
        }
      ]
    },
    {
      "cell_type": "code",
      "execution_count": null,
      "metadata": {
        "id": "HUIgmoKB5Mhb"
      },
      "outputs": [],
      "source": [
        "#using MinMax scaler\n",
        "from sklearn.preprocessing import MinMaxScaler\n",
        "scaler=MinMaxScaler()\n",
        "min_max_scaled=scaler.fit_transform(to_model)\n",
        "min_max_scaled=pd.DataFrame(min_max_scaled, columns=to_model.columns)"
      ]
    },
    {
      "cell_type": "code",
      "source": [
        "#using standard scaler\n",
        "from sklearn.preprocessing import StandardScaler\n",
        "scaler1=StandardScaler()\n",
        "std_scaled=scaler1.fit_transform(to_model)\n",
        "std_scaled=pd.DataFrame(std_scaled, columns=to_model.columns)"
      ],
      "metadata": {
        "id": "AOMRuOSF5aUS"
      },
      "execution_count": null,
      "outputs": []
    },
    {
      "cell_type": "code",
      "execution_count": null,
      "metadata": {
        "id": "Woo1GclIdi0i"
      },
      "outputs": [],
      "source": [
        "#splitting all statistical features data for training and testing\n",
        "from sklearn.model_selection import train_test_split\n",
        "X = statistical_features\n",
        "y = concatenated_df_statistical['Wear']\n",
        "X_train, X_test, y_train, y_test = train_test_split(X, y, test_size=0.2, random_state=102)"
      ]
    },
    {
      "cell_type": "code",
      "execution_count": null,
      "metadata": {
        "id": "lodHzwITdRSH"
      },
      "outputs": [],
      "source": [
        "#passing all statistical features to knn\n",
        "from sklearn.neighbors import KNeighborsRegressor\n",
        "knn = KNeighborsRegressor(n_neighbors=5)\n",
        "knn.fit(X_train.astype(float), y_train.astype(float))\n",
        "y_pred_knn = knn.predict(X_test)"
      ]
    },
    {
      "cell_type": "code",
      "execution_count": null,
      "metadata": {
        "colab": {
          "base_uri": "https://localhost:8080/"
        },
        "id": "LImNMvttggjo",
        "outputId": "75206e86-2343-40c0-ddd8-1284500471f4"
      },
      "outputs": [
        {
          "output_type": "stream",
          "name": "stdout",
          "text": [
            "Mean squared error for KNN model: 0.0011624102671118533\n",
            "Mean absolute percentage error for KNN model: 0.1760132682232501\n",
            "R2 score for KNN model: 0.14341405566389898\n"
          ]
        }
      ],
      "source": [
        "#checking performance of knn model on all statistical features\n",
        "mse_knn = mean_squared_error(y_test, y_pred_knn)\n",
        "mape_knn = mean_absolute_percentage_error(y_test, y_pred_knn)\n",
        "r2_knn = r2_score(y_test, y_pred_knn)\n",
        "\n",
        "print(\"Mean squared error for KNN model:\", mse_knn)\n",
        "print(\"Mean absolute percentage error for KNN model:\", mape_knn)\n",
        "print(\"R2 score for KNN model:\", r2_knn)"
      ]
    },
    {
      "cell_type": "code",
      "source": [
        "graph=pd.DataFrame({'Actual':y_test,'Predict':y_pred_knn}).sort_values('Actual',ascending=True)\n",
        "size=np.arange(0,graph.shape[0],1)\n",
        "\n",
        "import matplotlib.pyplot as plt\n",
        "plt.figure(figsize=(8,5), dpi=100)\n",
        "plt.ylabel('tool wear')\n",
        "plt.xlabel('data points')\n",
        "plt.plot(size,graph.Actual, label='actual value')\n",
        "plt.plot(size,graph.Predict.sort_values(), label='predicted values')\n",
        "plt.plot(title='actual value')\n",
        "plt.legend()"
      ],
      "metadata": {
        "colab": {
          "base_uri": "https://localhost:8080/",
          "height": 482
        },
        "id": "0l94zR5oYYiF",
        "outputId": "cc39046f-ea8a-4594-d319-04062050ede8"
      },
      "execution_count": null,
      "outputs": [
        {
          "output_type": "execute_result",
          "data": {
            "text/plain": [
              "<matplotlib.legend.Legend at 0x7ffa83351930>"
            ]
          },
          "metadata": {},
          "execution_count": 111
        },
        {
          "output_type": "display_data",
          "data": {
            "text/plain": [
              "<Figure size 800x500 with 1 Axes>"
            ],
            "image/png": "[encoded data removed]"
          },
          "metadata": {}
        }
      ]
    },
    {
      "cell_type": "code",
      "execution_count": null,
      "metadata": {
        "id": "Ifv2IYnTg25T"
      },
      "outputs": [],
      "source": [
        "#passing all statistical features to decision tree\n",
        "from sklearn.tree import DecisionTreeRegressor\n",
        "dt_reg = DecisionTreeRegressor(max_depth=9)\n",
        "dt_reg.fit(X_train, y_train)\n",
        "y_pred_dt = dt_reg.predict(X_test)"
      ]
    },
    {
      "cell_type": "code",
      "source": [
        "y_pred_dt.shape"
      ],
      "metadata": {
        "colab": {
          "base_uri": "https://localhost:8080/"
        },
        "id": "6T-t3t9Csm5n",
        "outputId": "9cbf6f30-e160-4d98-8c27-ef3e887e1b25"
      },
      "execution_count": null,
      "outputs": [
        {
          "output_type": "execute_result",
          "data": {
            "text/plain": [
              "(599,)"
            ]
          },
          "metadata": {},
          "execution_count": 113
        }
      ]
    },
    {
      "cell_type": "code",
      "source": [
        "y_test.shape"
      ],
      "metadata": {
        "colab": {
          "base_uri": "https://localhost:8080/"
        },
        "id": "0t_JZSU0srnJ",
        "outputId": "476eb5e1-eab8-4433-b584-575876e138cf"
      },
      "execution_count": null,
      "outputs": [
        {
          "output_type": "execute_result",
          "data": {
            "text/plain": [
              "(599,)"
            ]
          },
          "metadata": {},
          "execution_count": 114
        }
      ]
    },
    {
      "cell_type": "code",
      "execution_count": null,
      "metadata": {
        "colab": {
          "base_uri": "https://localhost:8080/"
        },
        "id": "fFOCltjUhPtO",
        "outputId": "37d4e427-1343-47d8-e4b1-74e905d3e149"
      },
      "outputs": [
        {
          "output_type": "stream",
          "name": "stdout",
          "text": [
            "Mean squared error for DT model: 5.688631173131894e-32\n",
            "Mean absolute percentage error for DT model: 1.1326971391443078e-15\n",
            "R2 score for DT model: 1.0\n"
          ]
        }
      ],
      "source": [
        "#checking performance of decision tree model on all statistical features\n",
        "\n",
        "mse_dt = mean_squared_error(y_test, y_pred_dt)\n",
        "mape_dt = mean_absolute_percentage_error(y_test, y_pred_dt)\n",
        "r2_dt = r2_score(y_test, y_pred_dt)\n",
        "\n",
        "print(\"Mean squared error for DT model:\", mse_dt)\n",
        "print(\"Mean absolute percentage error for DT model:\", mape_dt)\n",
        "print(\"R2 score for DT model:\", r2_dt)"
      ]
    },
    {
      "cell_type": "code",
      "source": [
        "graph=pd.DataFrame({'Actual':y_test,'Predict':y_pred_dt}).sort_values('Actual',ascending=True)\n",
        "graph"
      ],
      "metadata": {
        "colab": {
          "base_uri": "https://localhost:8080/",
          "height": 424
        },
        "id": "RDp6KMEku3Bp",
        "outputId": "1b9e9732-38d9-4916-e55e-a5a0ec8c0c95"
      },
      "execution_count": null,
      "outputs": [
        {
          "output_type": "execute_result",
          "data": {
            "text/plain": [
              "      Actual  Predict\n",
              "40      0.08     0.08\n",
              "13      0.08     0.08\n",
              "98      0.08     0.08\n",
              "12      0.08     0.08\n",
              "75      0.08     0.08\n",
              "...      ...      ...\n",
              "2954    0.22     0.22\n",
              "2973    0.22     0.22\n",
              "2935    0.22     0.22\n",
              "2959    0.22     0.22\n",
              "2921    0.22     0.22\n",
              "\n",
              "[599 rows x 2 columns]"
            ],
            "text/html": [
              "\n",
              "  <div id=\"df-45e909a3-51c3-402c-b835-368e32d2199b\">\n",
              "    <div class=\"colab-df-container\">\n",
              "      <div>\n",
              "<style scoped>\n",
              "    .dataframe tbody tr th:only-of-type {\n",
              "        vertical-align: middle;\n",
              "    }\n",
              "\n",
              "    .dataframe tbody tr th {\n",
              "        vertical-align: top;\n",
              "    }\n",
              "\n",
              "    .dataframe thead th {\n",
              "        text-align: right;\n",
              "    }\n",
              "</style>\n",
              "<table border=\"1\" class=\"dataframe\">\n",
              "  <thead>\n",
              "    <tr style=\"text-align: right;\">\n",
              "      <th></th>\n",
              "      <th>Actual</th>\n",
              "      <th>Predict</th>\n",
              "    </tr>\n",
              "  </thead>\n",
              "  <tbody>\n",
              "    <tr>\n",
              "      <th>40</th>\n",
              "      <td>0.08</td>\n",
              "      <td>0.08</td>\n",
              "    </tr>\n",
              "    <tr>\n",
              "      <th>13</th>\n",
              "      <td>0.08</td>\n",
              "      <td>0.08</td>\n",
              "    </tr>\n",
              "    <tr>\n",
              "      <th>98</th>\n",
              "      <td>0.08</td>\n",
              "      <td>0.08</td>\n",
              "    </tr>\n",
              "    <tr>\n",
              "      <th>12</th>\n",
              "      <td>0.08</td>\n",
              "      <td>0.08</td>\n",
              "    </tr>\n",
              "    <tr>\n",
              "      <th>75</th>\n",
              "      <td>0.08</td>\n",
              "      <td>0.08</td>\n",
              "    </tr>\n",
              "    <tr>\n",
              "      <th>...</th>\n",
              "      <td>...</td>\n",
              "      <td>...</td>\n",
              "    </tr>\n",
              "    <tr>\n",
              "      <th>2954</th>\n",
              "      <td>0.22</td>\n",
              "      <td>0.22</td>\n",
              "    </tr>\n",
              "    <tr>\n",
              "      <th>2973</th>\n",
              "      <td>0.22</td>\n",
              "      <td>0.22</td>\n",
              "    </tr>\n",
              "    <tr>\n",
              "      <th>2935</th>\n",
              "      <td>0.22</td>\n",
              "      <td>0.22</td>\n",
              "    </tr>\n",
              "    <tr>\n",
              "      <th>2959</th>\n",
              "      <td>0.22</td>\n",
              "      <td>0.22</td>\n",
              "    </tr>\n",
              "    <tr>\n",
              "      <th>2921</th>\n",
              "      <td>0.22</td>\n",
              "      <td>0.22</td>\n",
              "    </tr>\n",
              "  </tbody>\n",
              "</table>\n",
              "<p>599 rows × 2 columns</p>\n",
              "</div>\n",
              "      <button class=\"colab-df-convert\" onclick=\"convertToInteractive('df-45e909a3-51c3-402c-b835-368e32d2199b')\"\n",
              "              title=\"Convert this dataframe to an interactive table.\"\n",
              "              style=\"display:none;\">\n",
              "        \n",
              "  <svg xmlns=\"http://www.w3.org/2000/svg\" height=\"24px\"viewBox=\"0 0 24 24\"\n",
              "       width=\"24px\">\n",
              "    <path d=\"M0 0h24v24H0V0z\" fill=\"none\"/>\n",
              "    <path d=\"M18.56 5.44l.94 2.06.94-2.06 2.06-.94-2.06-.94-.94-2.06-.94 2.06-2.06.94zm-11 1L8.5 8.5l.94-2.06 2.06-.94-2.06-.94L8.5 2.5l-.94 2.06-2.06.94zm10 10l.94 2.06.94-2.06 2.06-.94-2.06-.94-.94-2.06-.94 2.06-2.06.94z\"/><path d=\"M17.41 7.96l-1.37-1.37c-.4-.4-.92-.59-1.43-.59-.52 0-1.04.2-1.43.59L10.3 9.45l-7.72 7.72c-.78.78-.78 2.05 0 2.83L4 21.41c.39.39.9.59 1.41.59.51 0 1.02-.2 1.41-.59l7.78-7.78 2.81-2.81c.8-.78.8-2.07 0-2.86zM5.41 20L4 18.59l7.72-7.72 1.47 1.35L5.41 20z\"/>\n",
              "  </svg>\n",
              "      </button>\n",
              "      \n",
              "  <style>\n",
              "    .colab-df-container {\n",
              "      display:flex;\n",
              "      flex-wrap:wrap;\n",
              "      gap: 12px;\n",
              "    }\n",
              "\n",
              "    .colab-df-convert {\n",
              "      background-color: #E8F0FE;\n",
              "      border: none;\n",
              "      border-radius: 50%;\n",
              "      cursor: pointer;\n",
              "      display: none;\n",
              "      fill: #1967D2;\n",
              "      height: 32px;\n",
              "      padding: 0 0 0 0;\n",
              "      width: 32px;\n",
              "    }\n",
              "\n",
              "    .colab-df-convert:hover {\n",
              "      background-color: #E2EBFA;\n",
              "      box-shadow: 0px 1px 2px rgba(60, 64, 67, 0.3), 0px 1px 3px 1px rgba(60, 64, 67, 0.15);\n",
              "      fill: #174EA6;\n",
              "    }\n",
              "\n",
              "    [theme=dark] .colab-df-convert {\n",
              "      background-color: #3B4455;\n",
              "      fill: #D2E3FC;\n",
              "    }\n",
              "\n",
              "    [theme=dark] .colab-df-convert:hover {\n",
              "      background-color: #434B5C;\n",
              "      box-shadow: 0px 1px 3px 1px rgba(0, 0, 0, 0.15);\n",
              "      filter: drop-shadow(0px 1px 2px rgba(0, 0, 0, 0.3));\n",
              "      fill: #FFFFFF;\n",
              "    }\n",
              "  </style>\n",
              "\n",
              "      <script>\n",
              "        const buttonEl =\n",
              "          document.querySelector('#df-45e909a3-51c3-402c-b835-368e32d2199b button.colab-df-convert');\n",
              "        buttonEl.style.display =\n",
              "          google.colab.kernel.accessAllowed ? 'block' : 'none';\n",
              "\n",
              "        async function convertToInteractive(key) {\n",
              "          const element = document.querySelector('#df-45e909a3-51c3-402c-b835-368e32d2199b');\n",
              "          const dataTable =\n",
              "            await google.colab.kernel.invokeFunction('convertToInteractive',\n",
              "                                                     [key], {});\n",
              "          if (!dataTable) return;\n",
              "\n",
              "          const docLinkHtml = 'Like what you see? Visit the ' +\n",
              "            '<a target=\"_blank\" href=https://colab.research.google.com/notebooks/data_table.ipynb>data table notebook</a>'\n",
              "            + ' to learn more about interactive tables.';\n",
              "          element.innerHTML = '';\n",
              "          dataTable['output_type'] = 'display_data';\n",
              "          await google.colab.output.renderOutput(dataTable, element);\n",
              "          const docLink = document.createElement('div');\n",
              "          docLink.innerHTML = docLinkHtml;\n",
              "          element.appendChild(docLink);\n",
              "        }\n",
              "      </script>\n",
              "    </div>\n",
              "  </div>\n",
              "  "
            ]
          },
          "metadata": {},
          "execution_count": 116
        }
      ]
    },
    {
      "cell_type": "code",
      "source": [
        "graph.shape"
      ],
      "metadata": {
        "colab": {
          "base_uri": "https://localhost:8080/"
        },
        "id": "RpDFyp-iv_c1",
        "outputId": "070070ce-dafc-42e4-ce91-c7d7bdf882a7"
      },
      "execution_count": null,
      "outputs": [
        {
          "output_type": "execute_result",
          "data": {
            "text/plain": [
              "(599, 2)"
            ]
          },
          "metadata": {},
          "execution_count": 117
        }
      ]
    },
    {
      "cell_type": "code",
      "source": [
        "size=np.arange(0,graph.shape[0],1)\n",
        "size"
      ],
      "metadata": {
        "colab": {
          "base_uri": "https://localhost:8080/"
        },
        "id": "uBbv91KXvfnz",
        "outputId": "692b8deb-64a1-40ea-848f-c02d223308a5"
      },
      "execution_count": null,
      "outputs": [
        {
          "output_type": "execute_result",
          "data": {
            "text/plain": [
              "array([  0,   1,   2,   3,   4,   5,   6,   7,   8,   9,  10,  11,  12,\n",
              "        13,  14,  15,  16,  17,  18,  19,  20,  21,  22,  23,  24,  25,\n",
              "        26,  27,  28,  29,  30,  31,  32,  33,  34,  35,  36,  37,  38,\n",
              "        39,  40,  41,  42,  43,  44,  45,  46,  47,  48,  49,  50,  51,\n",
              "        52,  53,  54,  55,  56,  57,  58,  59,  60,  61,  62,  63,  64,\n",
              "        65,  66,  67,  68,  69,  70,  71,  72,  73,  74,  75,  76,  77,\n",
              "        78,  79,  80,  81,  82,  83,  84,  85,  86,  87,  88,  89,  90,\n",
              "        91,  92,  93,  94,  95,  96,  97,  98,  99, 100, 101, 102, 103,\n",
              "       104, 105, 106, 107, 108, 109, 110, 111, 112, 113, 114, 115, 116,\n",
              "       117, 118, 119, 120, 121, 122, 123, 124, 125, 126, 127, 128, 129,\n",
              "       130, 131, 132, 133, 134, 135, 136, 137, 138, 139, 140, 141, 142,\n",
              "       143, 144, 145, 146, 147, 148, 149, 150, 151, 152, 153, 154, 155,\n",
              "       156, 157, 158, 159, 160, 161, 162, 163, 164, 165, 166, 167, 168,\n",
              "       169, 170, 171, 172, 173, 174, 175, 176, 177, 178, 179, 180, 181,\n",
              "       182, 183, 184, 185, 186, 187, 188, 189, 190, 191, 192, 193, 194,\n",
              "       195, 196, 197, 198, 199, 200, 201, 202, 203, 204, 205, 206, 207,\n",
              "       208, 209, 210, 211, 212, 213, 214, 215, 216, 217, 218, 219, 220,\n",
              "       221, 222, 223, 224, 225, 226, 227, 228, 229, 230, 231, 232, 233,\n",
              "       234, 235, 236, 237, 238, 239, 240, 241, 242, 243, 244, 245, 246,\n",
              "       247, 248, 249, 250, 251, 252, 253, 254, 255, 256, 257, 258, 259,\n",
              "       260, 261, 262, 263, 264, 265, 266, 267, 268, 269, 270, 271, 272,\n",
              "       273, 274, 275, 276, 277, 278, 279, 280, 281, 282, 283, 284, 285,\n",
              "       286, 287, 288, 289, 290, 291, 292, 293, 294, 295, 296, 297, 298,\n",
              "       299, 300, 301, 302, 303, 304, 305, 306, 307, 308, 309, 310, 311,\n",
              "       312, 313, 314, 315, 316, 317, 318, 319, 320, 321, 322, 323, 324,\n",
              "       325, 326, 327, 328, 329, 330, 331, 332, 333, 334, 335, 336, 337,\n",
              "       338, 339, 340, 341, 342, 343, 344, 345, 346, 347, 348, 349, 350,\n",
              "       351, 352, 353, 354, 355, 356, 357, 358, 359, 360, 361, 362, 363,\n",
              "       364, 365, 366, 367, 368, 369, 370, 371, 372, 373, 374, 375, 376,\n",
              "       377, 378, 379, 380, 381, 382, 383, 384, 385, 386, 387, 388, 389,\n",
              "       390, 391, 392, 393, 394, 395, 396, 397, 398, 399, 400, 401, 402,\n",
              "       403, 404, 405, 406, 407, 408, 409, 410, 411, 412, 413, 414, 415,\n",
              "       416, 417, 418, 419, 420, 421, 422, 423, 424, 425, 426, 427, 428,\n",
              "       429, 430, 431, 432, 433, 434, 435, 436, 437, 438, 439, 440, 441,\n",
              "       442, 443, 444, 445, 446, 447, 448, 449, 450, 451, 452, 453, 454,\n",
              "       455, 456, 457, 458, 459, 460, 461, 462, 463, 464, 465, 466, 467,\n",
              "       468, 469, 470, 471, 472, 473, 474, 475, 476, 477, 478, 479, 480,\n",
              "       481, 482, 483, 484, 485, 486, 487, 488, 489, 490, 491, 492, 493,\n",
              "       494, 495, 496, 497, 498, 499, 500, 501, 502, 503, 504, 505, 506,\n",
              "       507, 508, 509, 510, 511, 512, 513, 514, 515, 516, 517, 518, 519,\n",
              "       520, 521, 522, 523, 524, 525, 526, 527, 528, 529, 530, 531, 532,\n",
              "       533, 534, 535, 536, 537, 538, 539, 540, 541, 542, 543, 544, 545,\n",
              "       546, 547, 548, 549, 550, 551, 552, 553, 554, 555, 556, 557, 558,\n",
              "       559, 560, 561, 562, 563, 564, 565, 566, 567, 568, 569, 570, 571,\n",
              "       572, 573, 574, 575, 576, 577, 578, 579, 580, 581, 582, 583, 584,\n",
              "       585, 586, 587, 588, 589, 590, 591, 592, 593, 594, 595, 596, 597,\n",
              "       598])"
            ]
          },
          "metadata": {},
          "execution_count": 118
        }
      ]
    },
    {
      "cell_type": "code",
      "source": [
        "import matplotlib.pyplot as plt\n",
        "plt.figure(figsize=(8,5), dpi=100)\n",
        "plt.ylabel('tool wear')\n",
        "plt.xlabel('data points')\n",
        "plt.plot(size,graph.Actual, label='actual value')\n",
        "plt.plot(size,graph.Predict, label='predicted values')\n",
        "plt.plot(title='actual value')\n",
        "plt.legend()"
      ],
      "metadata": {
        "colab": {
          "base_uri": "https://localhost:8080/",
          "height": 482
        },
        "id": "kOuMsnlIY3h6",
        "outputId": "822acf04-ed46-4863-fbe4-5d12777b883e"
      },
      "execution_count": null,
      "outputs": [
        {
          "output_type": "execute_result",
          "data": {
            "text/plain": [
              "<matplotlib.legend.Legend at 0x7ffa806a57b0>"
            ]
          },
          "metadata": {},
          "execution_count": 119
        },
        {
          "output_type": "display_data",
          "data": {
            "text/plain": [
              "<Figure size 800x500 with 1 Axes>"
            ],
            "image/png": "[encoded data removed]"
          },
          "metadata": {}
        }
      ]
    },
    {
      "cell_type": "code",
      "execution_count": null,
      "metadata": {
        "id": "WFxanmFiixA_"
      },
      "outputs": [],
      "source": [
        "#splitting selected statistical features data for training and testing\n",
        "X = to_model.astype(float)\n",
        "y = concatenated_df_statistical['Wear'].astype(float)\n",
        "X_train, X_test, y_train, y_test = train_test_split(X, y, test_size=0.2, random_state=101)"
      ]
    },
    {
      "cell_type": "code",
      "execution_count": null,
      "metadata": {
        "id": "IRCW0ZfdixBB"
      },
      "outputs": [],
      "source": [
        "#passing selected statistical features to knn\n",
        "from sklearn.neighbors import KNeighborsRegressor\n",
        "knn = KNeighborsRegressor(n_neighbors=5)\n",
        "knn.fit(X_train.astype(float), y_train.astype(float))\n",
        "y_pred_knn = knn.predict(X_test)"
      ]
    },
    {
      "cell_type": "code",
      "execution_count": null,
      "metadata": {
        "colab": {
          "base_uri": "https://localhost:8080/"
        },
        "id": "NlPF1GCIixBC",
        "outputId": "78b092ca-1283-4850-8638-ac6b2e98ea75"
      },
      "outputs": [
        {
          "output_type": "stream",
          "name": "stdout",
          "text": [
            "Mean squared error for KNN model: 0.0008017616861435726\n",
            "Mean absolute percentage error for KNN model: 0.1371585930500479\n",
            "R2 score for KNN model: 0.43663710821709\n"
          ]
        }
      ],
      "source": [
        "#checking performance of knn model on selected statistical features\n",
        "mse_knn = mean_squared_error(y_test, y_pred_knn)\n",
        "mape_knn = mean_absolute_percentage_error(y_test, y_pred_knn)\n",
        "r2_knn = r2_score(y_test, y_pred_knn)\n",
        "\n",
        "print(\"Mean squared error for KNN model:\", mse_knn)\n",
        "print(\"Mean absolute percentage error for KNN model:\", mape_knn)\n",
        "print(\"R2 score for KNN model:\", r2_knn)"
      ]
    },
    {
      "cell_type": "code",
      "source": [
        "graph=pd.DataFrame({'Actual':y_test,'Predict':y_pred_knn}).sort_values('Actual',ascending=True)\n",
        "size=np.arange(0,graph.shape[0],1)\n",
        "\n",
        "import matplotlib.pyplot as plt\n",
        "plt.figure(figsize=(8,5), dpi=100)\n",
        "plt.ylabel('tool wear')\n",
        "plt.xlabel('data points')\n",
        "plt.plot(size,graph.Actual, label='actual value')\n",
        "plt.plot(size,graph.Predict.sort_values(), label='predicted values')\n",
        "plt.plot(title='actual value')\n",
        "plt.legend()"
      ],
      "metadata": {
        "colab": {
          "base_uri": "https://localhost:8080/",
          "height": 482
        },
        "id": "sCP-xNXmZAty",
        "outputId": "ddfdb717-13da-4dbd-e49c-36bf5802688c"
      },
      "execution_count": null,
      "outputs": [
        {
          "output_type": "execute_result",
          "data": {
            "text/plain": [
              "<matplotlib.legend.Legend at 0x7ffa8073d810>"
            ]
          },
          "metadata": {},
          "execution_count": 123
        },
        {
          "output_type": "display_data",
          "data": {
            "text/plain": [
              "<Figure size 800x500 with 1 Axes>"
            ],
            "image/png": "[encoded data removed]"
          },
          "metadata": {}
        }
      ]
    },
    {
      "cell_type": "code",
      "execution_count": null,
      "metadata": {
        "id": "c9JEAqX1jiA4"
      },
      "outputs": [],
      "source": [
        "#passing selected statistical features to decision tree\n",
        "from sklearn.tree import DecisionTreeRegressor\n",
        "dt_reg = DecisionTreeRegressor(max_depth=900)\n",
        "dt_reg.fit(X_train, y_train)\n",
        "y_pred_dt = dt_reg.predict(X_test)"
      ]
    },
    {
      "cell_type": "code",
      "execution_count": null,
      "metadata": {
        "colab": {
          "base_uri": "https://localhost:8080/"
        },
        "id": "6igt0bSHjiBT",
        "outputId": "43c35cd5-61c0-4aa8-8c8d-396ec6cdadce"
      },
      "outputs": [
        {
          "output_type": "stream",
          "name": "stdout",
          "text": [
            "Mean squared error for DT model: 0.0003027754590984975\n",
            "Mean absolute percentage error for DT model: 0.07172924437494373\n",
            "R2 score for DT model: 0.7872529192320583\n"
          ]
        }
      ],
      "source": [
        "#checking performance of decision tree model on selected statistical features\n",
        "\n",
        "mse_dt = mean_squared_error(y_test, y_pred_dt)\n",
        "mape_dt = mean_absolute_percentage_error(y_test, y_pred_dt)\n",
        "r2_dt = r2_score(y_test, y_pred_dt)\n",
        "\n",
        "print(\"Mean squared error for DT model:\", mse_dt)\n",
        "print(\"Mean absolute percentage error for DT model:\", mape_dt)\n",
        "print(\"R2 score for DT model:\", r2_dt)"
      ]
    },
    {
      "cell_type": "code",
      "source": [
        "graph=pd.DataFrame({'Actual':y_test,'Predict':y_pred_dt}).sort_values('Actual',ascending=True)\n",
        "size=np.arange(0,graph.shape[0],1)\n",
        "\n",
        "import matplotlib.pyplot as plt\n",
        "plt.figure(figsize=(8,5), dpi=100)\n",
        "plt.ylabel('tool wear')\n",
        "plt.xlabel('data points')\n",
        "plt.plot(size,graph.Actual, label='actual value')\n",
        "plt.plot(size,graph.Predict.sort_values(), label='predicted values')\n",
        "plt.plot(title='actual value')\n",
        "plt.legend()"
      ],
      "metadata": {
        "colab": {
          "base_uri": "https://localhost:8080/",
          "height": 482
        },
        "id": "rqynb45bZHAp",
        "outputId": "45be7c94-00c1-4dbf-9100-af9d1dd1119a"
      },
      "execution_count": null,
      "outputs": [
        {
          "output_type": "execute_result",
          "data": {
            "text/plain": [
              "<matplotlib.legend.Legend at 0x7ffa805bf7f0>"
            ]
          },
          "metadata": {},
          "execution_count": 126
        },
        {
          "output_type": "display_data",
          "data": {
            "text/plain": [
              "<Figure size 800x500 with 1 Axes>"
            ],
            "image/png": "[encoded data removed]"
          },
          "metadata": {}
        }
      ]
    },
    {
      "cell_type": "code",
      "source": [
        "#passing selected statistical features to random forest\n",
        "from sklearn.ensemble import RandomForestRegressor\n",
        "rf_regressor = RandomForestRegressor(n_estimators=100, n_jobs=3)\n",
        "rf_regressor.fit(X_train, y_train)\n",
        "y_pred = rf_regressor.predict(X_test)"
      ],
      "metadata": {
        "id": "NnsdHdDY0NdA"
      },
      "execution_count": null,
      "outputs": []
    },
    {
      "cell_type": "code",
      "source": [
        "#checking performance of random forest model on selected statistical features\n",
        "\n",
        "mse_rf = mean_squared_error(y_test, y_pred_dt)\n",
        "mape_rf = mean_absolute_percentage_error(y_test, y_pred_dt)\n",
        "r2_rf = r2_score(y_test, y_pred_dt)\n",
        "\n",
        "print(\"Mean squared error for RF model:\", mse_rf)\n",
        "print(\"Mean absolute percentage error for RF model:\", mape_rf)\n",
        "print(\"R2 score for RF model:\", r2_rf)"
      ],
      "metadata": {
        "colab": {
          "base_uri": "https://localhost:8080/"
        },
        "id": "hy0jeN7k0M_1",
        "outputId": "e4861556-9e97-4e60-836d-02d1c553d6e1"
      },
      "execution_count": null,
      "outputs": [
        {
          "output_type": "stream",
          "name": "stdout",
          "text": [
            "Mean squared error for RF model: 0.0003099958263772955\n",
            "Mean absolute percentage error for RF model: 0.07118815885096455\n",
            "R2 score for RF model: 0.782179482748103\n"
          ]
        }
      ]
    },
    {
      "cell_type": "code",
      "source": [
        "graph=pd.DataFrame({'Actual':y_test,'Predict':y_pred}).sort_values('Actual',ascending=True)\n",
        "size=np.arange(0,graph.shape[0],1)\n",
        "\n",
        "import matplotlib.pyplot as plt\n",
        "plt.figure(figsize=(8,5), dpi=100)\n",
        "plt.ylabel('tool wear')\n",
        "plt.xlabel('data points')\n",
        "plt.plot(size,graph.Actual, label='actual value')\n",
        "plt.plot(size,graph.Predict.sort_values(), label='predicted values')\n",
        "plt.plot(title='actual value')\n",
        "plt.legend()"
      ],
      "metadata": {
        "colab": {
          "base_uri": "https://localhost:8080/",
          "height": 482
        },
        "id": "94pahM_sZQ17",
        "outputId": "d4c86b1f-4757-43de-d0c3-9d918f1ef1bc"
      },
      "execution_count": null,
      "outputs": [
        {
          "output_type": "execute_result",
          "data": {
            "text/plain": [
              "<matplotlib.legend.Legend at 0x7ffa831d99f0>"
            ]
          },
          "metadata": {},
          "execution_count": 90
        },
        {
          "output_type": "display_data",
          "data": {
            "text/plain": [
              "<Figure size 800x500 with 1 Axes>"
            ],
            "image/png": "[encoded data removed]"
          },
          "metadata": {}
        }
      ]
    },
    {
      "cell_type": "code",
      "execution_count": null,
      "metadata": {
        "id": "DWpzaUXsliux"
      },
      "outputs": [],
      "source": [
        "#splitting scaled selected statistical features data for training and testing\n",
        "from sklearn.model_selection import train_test_split\n",
        "X = std_scaled.astype(float)\n",
        "y = concatenated_df_statistical['Wear'].astype(float)\n",
        "X_train, X_test, y_train, y_test = train_test_split(X, y, test_size=0.2, random_state=101)"
      ]
    },
    {
      "cell_type": "code",
      "execution_count": null,
      "metadata": {
        "id": "UaFOeRMxliu1"
      },
      "outputs": [],
      "source": [
        "#passing scaled selected statistical features to knn\n",
        "from sklearn.neighbors import KNeighborsRegressor\n",
        "knn = KNeighborsRegressor(n_neighbors=5)\n",
        "knn.fit(X_train.astype(float), y_train.astype(float))\n",
        "y_pred_knn = knn.predict(X_test)"
      ]
    },
    {
      "cell_type": "code",
      "execution_count": null,
      "metadata": {
        "colab": {
          "base_uri": "https://localhost:8080/"
        },
        "id": "UWVBVz-Dliu1",
        "outputId": "8cb3f579-4b0a-4843-ea9c-9aabd9214936"
      },
      "outputs": [
        {
          "output_type": "stream",
          "name": "stdout",
          "text": [
            "Mean squared error for KNN model: 0.00018395534223706174\n",
            "Mean absolute percentage error for KNN model: 0.061392002530539336\n",
            "R2 score for KNN model: 0.8707426217133701\n"
          ]
        }
      ],
      "source": [
        "#checking performance of knn model on scaled selected statistical features\n",
        "mse_knn = mean_squared_error(y_test, y_pred_knn)\n",
        "mape_knn = mean_absolute_percentage_error(y_test, y_pred_knn)\n",
        "r2_knn = r2_score(y_test, y_pred_knn)\n",
        "\n",
        "print(\"Mean squared error for KNN model:\", mse_knn)\n",
        "print(\"Mean absolute percentage error for KNN model:\", mape_knn)\n",
        "print(\"R2 score for KNN model:\", r2_knn)"
      ]
    },
    {
      "cell_type": "code",
      "source": [
        "graph=pd.DataFrame({'Actual':y_test,'Predict':y_pred_knn}).sort_values('Actual',ascending=True)\n",
        "size=np.arange(0,graph.shape[0],1)\n",
        "\n",
        "import matplotlib.pyplot as plt\n",
        "plt.figure(figsize=(8,5), dpi=100)\n",
        "plt.ylabel('tool wear')\n",
        "plt.xlabel('data points')\n",
        "plt.plot(size,graph.Actual, label='actual value')\n",
        "plt.plot(size,graph.Predict.sort_values(), label='predicted values')\n",
        "plt.plot(title='actual value')\n",
        "plt.legend()"
      ],
      "metadata": {
        "colab": {
          "base_uri": "https://localhost:8080/",
          "height": 482
        },
        "id": "0VQHm7IPZY4A",
        "outputId": "64537733-2fd1-442a-fb3f-43b8175a1214"
      },
      "execution_count": null,
      "outputs": [
        {
          "output_type": "execute_result",
          "data": {
            "text/plain": [
              "<matplotlib.legend.Legend at 0x7ffa83262710>"
            ]
          },
          "metadata": {},
          "execution_count": 94
        },
        {
          "output_type": "display_data",
          "data": {
            "text/plain": [
              "<Figure size 800x500 with 1 Axes>"
            ],
            "image/png": "[encoded data removed]"
          },
          "metadata": {}
        }
      ]
    },
    {
      "cell_type": "code",
      "execution_count": null,
      "metadata": {
        "id": "ysl-a8ANliu3"
      },
      "outputs": [],
      "source": [
        "#passing scaled selected statistical features to decision tree\n",
        "from sklearn.tree import DecisionTreeRegressor\n",
        "dt_reg = DecisionTreeRegressor(max_depth=3)\n",
        "dt_reg.fit(X_train, y_train)\n",
        "y_pred_dt = dt_reg.predict(X_test)"
      ]
    },
    {
      "cell_type": "code",
      "execution_count": null,
      "metadata": {
        "colab": {
          "base_uri": "https://localhost:8080/"
        },
        "id": "F1oIAkbPliu3",
        "outputId": "3eefe22e-61fd-49e4-9a79-b9a0aab51db4"
      },
      "outputs": [
        {
          "output_type": "stream",
          "name": "stdout",
          "text": [
            "Mean squared error for DT model: 0.0004448073629761097\n",
            "Mean absolute percentage error for DT model: 0.10853626860688112\n",
            "R2 score for DT model: 0.6874533086036261\n"
          ]
        }
      ],
      "source": [
        "#checking performance of decision tree model on scaled selected statistical features\n",
        "\n",
        "mse_dt = mean_squared_error(y_test, y_pred_dt)\n",
        "mape_dt = mean_absolute_percentage_error(y_test, y_pred_dt)\n",
        "r2_dt = r2_score(y_test, y_pred_dt)\n",
        "\n",
        "print(\"Mean squared error for DT model:\", mse_dt)\n",
        "print(\"Mean absolute percentage error for DT model:\", mape_dt)\n",
        "print(\"R2 score for DT model:\", r2_dt)"
      ]
    },
    {
      "cell_type": "code",
      "source": [
        "graph=pd.DataFrame({'Actual':y_test,'Predict':y_pred_dt}).sort_values('Actual',ascending=True)\n",
        "size=np.arange(0,graph.shape[0],1)\n",
        "\n",
        "import matplotlib.pyplot as plt\n",
        "plt.figure(figsize=(8,5), dpi=100)\n",
        "plt.ylabel('tool wear')\n",
        "plt.xlabel('data points')\n",
        "plt.plot(size,graph.Actual, label='actual value')\n",
        "plt.plot(size,graph.Predict.sort_values(), label='predicted values')\n",
        "plt.plot(title='actual value')\n",
        "plt.legend()"
      ],
      "metadata": {
        "colab": {
          "base_uri": "https://localhost:8080/",
          "height": 482
        },
        "id": "cEMEUtvzZudU",
        "outputId": "e7104153-c3e3-4323-b9a9-495dac12401a"
      },
      "execution_count": null,
      "outputs": [
        {
          "output_type": "execute_result",
          "data": {
            "text/plain": [
              "<matplotlib.legend.Legend at 0x7ffa830e7880>"
            ]
          },
          "metadata": {},
          "execution_count": 97
        },
        {
          "output_type": "display_data",
          "data": {
            "text/plain": [
              "<Figure size 800x500 with 1 Axes>"
            ],
            "image/png": "[encoded data removed]"
          },
          "metadata": {}
        }
      ]
    },
    {
      "cell_type": "code",
      "source": [
        "#passing scaled selected statistical features to random forest\n",
        "from sklearn.ensemble import RandomForestRegressor\n",
        "rf_regressor = RandomForestRegressor(n_estimators=100, n_jobs=3)\n",
        "rf_regressor.fit(X_train, y_train)\n",
        "y_pred = rf_regressor.predict(X_test)"
      ],
      "metadata": {
        "id": "4v9VBqlp1O6Y"
      },
      "execution_count": null,
      "outputs": []
    },
    {
      "cell_type": "code",
      "source": [
        "#checking performance of random forest model on scaled selected statistical features\n",
        "\n",
        "mse_rf = mean_squared_error(y_test, y_pred_dt)\n",
        "mape_rf = mean_absolute_percentage_error(y_test, y_pred_dt)\n",
        "r2_rf = r2_score(y_test, y_pred_dt)\n",
        "\n",
        "print(\"Mean squared error for RF model:\", mse_rf)\n",
        "print(\"Mean absolute percentage error for RF model:\", mape_rf)\n",
        "print(\"R2 score for RF model:\", r2_rf)"
      ],
      "metadata": {
        "colab": {
          "base_uri": "https://localhost:8080/"
        },
        "id": "sRipjJI81Ora",
        "outputId": "5c255bec-3853-4ca1-d9bc-d3e46f679d81"
      },
      "execution_count": null,
      "outputs": [
        {
          "output_type": "stream",
          "name": "stdout",
          "text": [
            "Mean squared error for RF model: 0.0004448073629761097\n",
            "Mean absolute percentage error for RF model: 0.10853626860688112\n",
            "R2 score for RF model: 0.6874533086036261\n"
          ]
        }
      ]
    },
    {
      "cell_type": "code",
      "source": [
        "graph=pd.DataFrame({'Actual':y_test,'Predict':y_pred}).sort_values('Actual',ascending=True)\n",
        "size=np.arange(0,graph.shape[0],1)\n",
        "\n",
        "import matplotlib.pyplot as plt\n",
        "plt.figure(figsize=(8,5), dpi=100)\n",
        "plt.ylabel('tool wear')\n",
        "plt.xlabel('data points')\n",
        "plt.plot(size,graph.Actual, label='actual value')\n",
        "plt.plot(size,graph.Predict.sort_values(), label='predicted values')\n",
        "plt.plot(title='actual value')\n",
        "plt.legend()"
      ],
      "metadata": {
        "id": "ZmzYz1BKZ4gV",
        "outputId": "6e473acb-f9b2-4e45-db40-9a492401d49a",
        "colab": {
          "base_uri": "https://localhost:8080/",
          "height": 482
        }
      },
      "execution_count": null,
      "outputs": [
        {
          "output_type": "execute_result",
          "data": {
            "text/plain": [
              "<matplotlib.legend.Legend at 0x7ffa83191630>"
            ]
          },
          "metadata": {},
          "execution_count": 100
        },
        {
          "output_type": "display_data",
          "data": {
            "text/plain": [
              "<Figure size 800x500 with 1 Axes>"
            ],
            "image/png": "[encoded data removed]"
          },
          "metadata": {}
        }
      ]
    }
  ]
}